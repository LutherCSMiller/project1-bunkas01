{
 "cells": [
  {
   "cell_type": "code",
   "execution_count": 17,
   "metadata": {
    "collapsed": true
   },
   "outputs": [],
   "source": [
    "import requests\n",
    "from bs4 import BeautifulSoup\n",
    "import json\n",
    "import math\n",
    "import re\n",
    "import pandas as pd\n",
    "%matplotlib inline\n",
    "import matplotlib.pyplot as plt\n",
    "import seaborn as sbn\n",
    "import sqlalchemy\n",
    "import copy\n",
    "sbn.set()"
   ]
  },
  {
   "cell_type": "markdown",
   "metadata": {},
   "source": [
    "## Project details\n",
    "\n",
    "For the project I'm intending to pull trade date for Elite: Dangerous from EDDB (Elite Dangerous DataBase). EDDB is a third party tool, relying on user submitted data, as well as scraping the official netlogs, and the API for a defunct iOS app. It also shares data with multiple other tools and databases intended for Elite: Dangerous players. Based on my current searches, it seems like the developers of Elite: Dangerous (sometimes also called Adjective: Adjective), Frontier Developments plc do not have a convenient public API.\n",
    "\n",
    "I'm largely analysing this data to satisfy my own idle curiosity--While I do play the game, I mostly play as a pirate, rather than a trader. It could still be interesting and useful in determining what salvage is worthwhile, or in picking trade lanes to target, but mostly I'm just curious.\n",
    "\n",
    "###### Project Questions:\n",
    "1. What is the ranking in terms of average price across commodity categories?\n",
    "2. What ten non-rare commodities have the highest profit margin?\n",
    "3. What ten rare commodities have the lowest profit margin?\n",
    "4. Do rare commodities always have a higher or lower profit margin than non-rare ones?"
   ]
  },
  {
   "cell_type": "markdown",
   "metadata": {},
   "source": [
    "### Datasets:"
   ]
  },
  {
   "cell_type": "markdown",
   "metadata": {},
   "source": [
    "#### Commodity Reference dataset from EDDB\n",
    "\n",
    "This dataset represents aggregated commodity data across individual commodities and in-game locations. It does not include information about commodity prices at different locations within the game, but rather represents average prices across the game's galaxy."
   ]
  },
  {
   "cell_type": "code",
   "execution_count": 18,
   "metadata": {
    "collapsed": true
   },
   "outputs": [],
   "source": [
    "comreq = requests.get(\"https://eddb.io/archive/v4/commodities.json\")"
   ]
  },
  {
   "cell_type": "code",
   "execution_count": 19,
   "metadata": {
    "collapsed": false
   },
   "outputs": [],
   "source": [
    "commodities = json.loads(comreq.text)\n",
    "com_data = pd.DataFrame(commodities)"
   ]
  },
  {
   "cell_type": "code",
   "execution_count": 20,
   "metadata": {
    "collapsed": true
   },
   "outputs": [],
   "source": [
    "def extract_category_name(category_dict):\n",
    "    category_name = category_dict['name']\n",
    "    return category_name\n",
    "\n",
    "def extract_category_wrapper(a_row):\n",
    "    return extract_category_name(a_row.category)"
   ]
  },
  {
   "cell_type": "code",
   "execution_count": 21,
   "metadata": {
    "collapsed": false
   },
   "outputs": [],
   "source": [
    "temp_com_data = com_data\n",
    "temp_com_data['category'] = temp_com_data.apply(extract_category_wrapper, axis=1)\n",
    "com_data = temp_com_data"
   ]
  },
  {
   "cell_type": "code",
   "execution_count": 22,
   "metadata": {
    "collapsed": false
   },
   "outputs": [
    {
     "data": {
      "text/html": [
       "<div>\n",
       "<table border=\"1\" class=\"dataframe\">\n",
       "  <thead>\n",
       "    <tr style=\"text-align: right;\">\n",
       "      <th></th>\n",
       "      <th>average_price</th>\n",
       "      <th>category</th>\n",
       "      <th>category_id</th>\n",
       "      <th>id</th>\n",
       "      <th>is_rare</th>\n",
       "      <th>name</th>\n",
       "    </tr>\n",
       "  </thead>\n",
       "  <tbody>\n",
       "    <tr>\n",
       "      <th>0</th>\n",
       "      <td>261</td>\n",
       "      <td>Chemicals</td>\n",
       "      <td>1</td>\n",
       "      <td>1</td>\n",
       "      <td>0</td>\n",
       "      <td>Explosives</td>\n",
       "    </tr>\n",
       "    <tr>\n",
       "      <th>1</th>\n",
       "      <td>110</td>\n",
       "      <td>Chemicals</td>\n",
       "      <td>1</td>\n",
       "      <td>2</td>\n",
       "      <td>0</td>\n",
       "      <td>Hydrogen Fuel</td>\n",
       "    </tr>\n",
       "    <tr>\n",
       "      <th>2</th>\n",
       "      <td>181</td>\n",
       "      <td>Chemicals</td>\n",
       "      <td>1</td>\n",
       "      <td>3</td>\n",
       "      <td>0</td>\n",
       "      <td>Mineral Oil</td>\n",
       "    </tr>\n",
       "    <tr>\n",
       "      <th>3</th>\n",
       "      <td>241</td>\n",
       "      <td>Chemicals</td>\n",
       "      <td>1</td>\n",
       "      <td>4</td>\n",
       "      <td>0</td>\n",
       "      <td>Pesticides</td>\n",
       "    </tr>\n",
       "    <tr>\n",
       "      <th>4</th>\n",
       "      <td>285</td>\n",
       "      <td>Consumer Items</td>\n",
       "      <td>2</td>\n",
       "      <td>5</td>\n",
       "      <td>0</td>\n",
       "      <td>Clothing</td>\n",
       "    </tr>\n",
       "  </tbody>\n",
       "</table>\n",
       "</div>"
      ],
      "text/plain": [
       "   average_price        category  category_id  id  is_rare           name\n",
       "0            261       Chemicals            1   1        0     Explosives\n",
       "1            110       Chemicals            1   2        0  Hydrogen Fuel\n",
       "2            181       Chemicals            1   3        0    Mineral Oil\n",
       "3            241       Chemicals            1   4        0     Pesticides\n",
       "4            285  Consumer Items            2   5        0       Clothing"
      ]
     },
     "execution_count": 22,
     "metadata": {},
     "output_type": "execute_result"
    }
   ],
   "source": [
    "com_data.head()"
   ]
  },
  {
   "cell_type": "markdown",
   "metadata": {},
   "source": [
    "#### Price Listings dataset from EDDB"
   ]
  },
  {
   "cell_type": "code",
   "execution_count": 23,
   "metadata": {
    "collapsed": false
   },
   "outputs": [],
   "source": [
    "pricereq = requests.get(\"https://eddb.io/archive/v4/listings.csv\")\n",
    "price_row_list = pricereq.text.split('\\n')"
   ]
  },
  {
   "cell_type": "code",
   "execution_count": 24,
   "metadata": {
    "collapsed": false
   },
   "outputs": [],
   "source": [
    "price_headings = price_row_list[0]\n",
    "price_row_list = price_row_list[1:]"
   ]
  },
  {
   "cell_type": "code",
   "execution_count": 25,
   "metadata": {
    "collapsed": false
   },
   "outputs": [],
   "source": [
    "price_headings = price_headings.split(\",\")"
   ]
  },
  {
   "cell_type": "code",
   "execution_count": 26,
   "metadata": {
    "collapsed": false
   },
   "outputs": [],
   "source": [
    "for index in range(len(price_row_list)):\n",
    "    entry_str = price_row_list[index]\n",
    "    new_entry = entry_str.split(\",\")\n",
    "    price_row_list[index] = new_entry"
   ]
  },
  {
   "cell_type": "code",
   "execution_count": 27,
   "metadata": {
    "collapsed": false
   },
   "outputs": [],
   "source": [
    "x = len(price_headings)\n",
    "problem_indices = []\n",
    "for entry in price_row_list:\n",
    "    if len(entry) != x:\n",
    "        index = price_row_list.index(entry)\n",
    "        problem_indices.append(index)\n",
    "        \n",
    "for index in problem_indices:\n",
    "    del price_row_list[index]"
   ]
  },
  {
   "cell_type": "code",
   "execution_count": 28,
   "metadata": {
    "collapsed": false
   },
   "outputs": [],
   "source": [
    "prices = {}\n",
    "for index in range(len(price_headings)):\n",
    "    key = price_headings[index]\n",
    "    value = []\n",
    "    for entry in price_row_list:\n",
    "        value.append(int(entry[index]))\n",
    "    prices[key] = value\n",
    "    \n",
    "price_data = pd.DataFrame(prices)"
   ]
  },
  {
   "cell_type": "code",
   "execution_count": 29,
   "metadata": {
    "collapsed": false
   },
   "outputs": [
    {
     "data": {
      "text/html": [
       "<div>\n",
       "<table border=\"1\" class=\"dataframe\">\n",
       "  <thead>\n",
       "    <tr style=\"text-align: right;\">\n",
       "      <th></th>\n",
       "      <th>buy_price</th>\n",
       "      <th>collected_at</th>\n",
       "      <th>commodity_id</th>\n",
       "      <th>demand</th>\n",
       "      <th>id</th>\n",
       "      <th>sell_price</th>\n",
       "      <th>station_id</th>\n",
       "      <th>supply</th>\n",
       "    </tr>\n",
       "  </thead>\n",
       "  <tbody>\n",
       "    <tr>\n",
       "      <th>0</th>\n",
       "      <td>0</td>\n",
       "      <td>1475765153</td>\n",
       "      <td>5</td>\n",
       "      <td>103</td>\n",
       "      <td>1</td>\n",
       "      <td>315</td>\n",
       "      <td>1</td>\n",
       "      <td>0</td>\n",
       "    </tr>\n",
       "    <tr>\n",
       "      <th>1</th>\n",
       "      <td>0</td>\n",
       "      <td>1475765153</td>\n",
       "      <td>6</td>\n",
       "      <td>8</td>\n",
       "      <td>2</td>\n",
       "      <td>6795</td>\n",
       "      <td>1</td>\n",
       "      <td>0</td>\n",
       "    </tr>\n",
       "    <tr>\n",
       "      <th>2</th>\n",
       "      <td>0</td>\n",
       "      <td>1475765153</td>\n",
       "      <td>7</td>\n",
       "      <td>63</td>\n",
       "      <td>3</td>\n",
       "      <td>527</td>\n",
       "      <td>1</td>\n",
       "      <td>0</td>\n",
       "    </tr>\n",
       "    <tr>\n",
       "      <th>3</th>\n",
       "      <td>0</td>\n",
       "      <td>1475765153</td>\n",
       "      <td>14</td>\n",
       "      <td>14</td>\n",
       "      <td>4</td>\n",
       "      <td>1286</td>\n",
       "      <td>1</td>\n",
       "      <td>0</td>\n",
       "    </tr>\n",
       "    <tr>\n",
       "      <th>4</th>\n",
       "      <td>0</td>\n",
       "      <td>1475765153</td>\n",
       "      <td>15</td>\n",
       "      <td>33</td>\n",
       "      <td>5</td>\n",
       "      <td>1286</td>\n",
       "      <td>1</td>\n",
       "      <td>0</td>\n",
       "    </tr>\n",
       "  </tbody>\n",
       "</table>\n",
       "</div>"
      ],
      "text/plain": [
       "   buy_price  collected_at  commodity_id  demand  id  sell_price  station_id  \\\n",
       "0          0    1475765153             5     103   1         315           1   \n",
       "1          0    1475765153             6       8   2        6795           1   \n",
       "2          0    1475765153             7      63   3         527           1   \n",
       "3          0    1475765153            14      14   4        1286           1   \n",
       "4          0    1475765153            15      33   5        1286           1   \n",
       "\n",
       "   supply  \n",
       "0       0  \n",
       "1       0  \n",
       "2       0  \n",
       "3       0  \n",
       "4       0  "
      ]
     },
     "execution_count": 29,
     "metadata": {},
     "output_type": "execute_result"
    }
   ],
   "source": [
    "price_data.head()"
   ]
  },
  {
   "cell_type": "markdown",
   "metadata": {},
   "source": [
    "### Data Analysis:"
   ]
  },
  {
   "cell_type": "markdown",
   "metadata": {},
   "source": [
    "#### What is the average commodity price within every category? e.g. what are the average price of Chemicals or Consumer Items? Additionally, what categories have the highest average price?"
   ]
  },
  {
   "cell_type": "code",
   "execution_count": 39,
   "metadata": {
    "collapsed": false
   },
   "outputs": [
    {
     "data": {
      "text/html": [
       "<div>\n",
       "<table border=\"1\" class=\"dataframe\">\n",
       "  <thead>\n",
       "    <tr style=\"text-align: right;\">\n",
       "      <th></th>\n",
       "      <th>average_price</th>\n",
       "    </tr>\n",
       "    <tr>\n",
       "      <th>category</th>\n",
       "      <th></th>\n",
       "    </tr>\n",
       "  </thead>\n",
       "  <tbody>\n",
       "    <tr>\n",
       "      <th>Salvage</th>\n",
       "      <td>34375.025000</td>\n",
       "    </tr>\n",
       "    <tr>\n",
       "      <th>Slavery</th>\n",
       "      <td>15719.333333</td>\n",
       "    </tr>\n",
       "    <tr>\n",
       "      <th>Industrial Materials</th>\n",
       "      <td>11845.900000</td>\n",
       "    </tr>\n",
       "    <tr>\n",
       "      <th>Consumer Items</th>\n",
       "      <td>9443.642857</td>\n",
       "    </tr>\n",
       "    <tr>\n",
       "      <th>Minerals</th>\n",
       "      <td>9363.045455</td>\n",
       "    </tr>\n",
       "    <tr>\n",
       "      <th>Metals</th>\n",
       "      <td>9222.086957</td>\n",
       "    </tr>\n",
       "    <tr>\n",
       "      <th>Weapons</th>\n",
       "      <td>8286.700000</td>\n",
       "    </tr>\n",
       "    <tr>\n",
       "      <th>Legal Drugs</th>\n",
       "      <td>8146.333333</td>\n",
       "    </tr>\n",
       "    <tr>\n",
       "      <th>Medicines</th>\n",
       "      <td>7661.588235</td>\n",
       "    </tr>\n",
       "    <tr>\n",
       "      <th>Foods</th>\n",
       "      <td>7412.122449</td>\n",
       "    </tr>\n",
       "    <tr>\n",
       "      <th>Textiles</th>\n",
       "      <td>5101.000000</td>\n",
       "    </tr>\n",
       "    <tr>\n",
       "      <th>Chemicals</th>\n",
       "      <td>4265.266667</td>\n",
       "    </tr>\n",
       "    <tr>\n",
       "      <th>Technology</th>\n",
       "      <td>3510.052632</td>\n",
       "    </tr>\n",
       "    <tr>\n",
       "      <th>Machinery</th>\n",
       "      <td>2331.571429</td>\n",
       "    </tr>\n",
       "    <tr>\n",
       "      <th>Waste</th>\n",
       "      <td>132.250000</td>\n",
       "    </tr>\n",
       "    <tr>\n",
       "      <th>Unknown</th>\n",
       "      <td>101.000000</td>\n",
       "    </tr>\n",
       "  </tbody>\n",
       "</table>\n",
       "</div>"
      ],
      "text/plain": [
       "                      average_price\n",
       "category                           \n",
       "Salvage                34375.025000\n",
       "Slavery                15719.333333\n",
       "Industrial Materials   11845.900000\n",
       "Consumer Items          9443.642857\n",
       "Minerals                9363.045455\n",
       "Metals                  9222.086957\n",
       "Weapons                 8286.700000\n",
       "Legal Drugs             8146.333333\n",
       "Medicines               7661.588235\n",
       "Foods                   7412.122449\n",
       "Textiles                5101.000000\n",
       "Chemicals               4265.266667\n",
       "Technology              3510.052632\n",
       "Machinery               2331.571429\n",
       "Waste                    132.250000\n",
       "Unknown                  101.000000"
      ]
     },
     "execution_count": 39,
     "metadata": {},
     "output_type": "execute_result"
    }
   ],
   "source": [
    "com_data[['category', 'average_price']].groupby('category').mean().sort_values('average_price', ascending=False)"
   ]
  }
 ],
 "metadata": {
  "kernelspec": {
   "display_name": "Python 3",
   "language": "python",
   "name": "python3"
  },
  "language_info": {
   "codemirror_mode": {
    "name": "ipython",
    "version": 3
   },
   "file_extension": ".py",
   "mimetype": "text/x-python",
   "name": "python",
   "nbconvert_exporter": "python",
   "pygments_lexer": "ipython3",
   "version": "3.5.1"
  }
 },
 "nbformat": 4,
 "nbformat_minor": 0
}
